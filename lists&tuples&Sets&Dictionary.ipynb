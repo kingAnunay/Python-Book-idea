{
  "nbformat": 4,
  "nbformat_minor": 0,
  "metadata": {
    "colab": {
      "name": "lists&tuples&Sets&Dictionary.ipynb",
      "provenance": [],
      "authorship_tag": "ABX9TyNvCfA67uk1BzI4aLoD+/7D",
      "include_colab_link": true
    },
    "kernelspec": {
      "name": "python3",
      "display_name": "Python 3"
    }
  },
  "cells": [
    {
      "cell_type": "markdown",
      "metadata": {
        "id": "view-in-github",
        "colab_type": "text"
      },
      "source": [
        "<a href=\"https://colab.research.google.com/github/kingAnunay/Python-Book-idea/blob/main/lists%26tuples%26Sets%26Dictionary.ipynb\" target=\"_parent\"><img src=\"https://colab.research.google.com/assets/colab-badge.svg\" alt=\"Open In Colab\"/></a>"
      ]
    },
    {
      "cell_type": "markdown",
      "metadata": {
        "id": "rIhsKPi_gRrz"
      },
      "source": [
        "**Python Collections (Arrays)** \n",
        "</br>There are four collection data types in Python Programming language.\n",
        "1. **List** - ordered and changeable, allows duplicate members.\n",
        "2. **Tuple** - ordered and unchangeable, allows duplicate members.\n",
        "3. **Set** - unordered and unindexed, no duplicate members.\n",
        "4. **Dictionary** - unordered and changeable, no duplicate members.\n",
        "\n"
      ]
    },
    {
      "cell_type": "markdown",
      "metadata": {
        "id": "CqMD3ARuZ6f_"
      },
      "source": [
        "**Python Lists**"
      ]
    },
    {
      "cell_type": "markdown",
      "metadata": {
        "id": "YmESqcw5bUIK"
      },
      "source": [
        "list are created in square brackets.\n",
        "</br>***lists are ordered,changeable,allow duplicate values.***"
      ]
    },
    {
      "cell_type": "code",
      "metadata": {
        "id": "TGJT_flHYDGM"
      },
      "source": [
        "mylist = [\"Apple\",\"Banana\",\"Cherry\"]  "
      ],
      "execution_count": null,
      "outputs": []
    },
    {
      "cell_type": "code",
      "metadata": {
        "colab": {
          "base_uri": "https://localhost:8080/"
        },
        "id": "xVD7sK3xYuy_",
        "outputId": "c9befa3c-0826-45f4-8956-4f83361e11cb"
      },
      "source": [
        "print(mylist)"
      ],
      "execution_count": null,
      "outputs": [
        {
          "output_type": "stream",
          "text": [
            "['Apple', 'Banana', 'Cherry']\n"
          ],
          "name": "stdout"
        }
      ]
    },
    {
      "cell_type": "markdown",
      "metadata": {
        "id": "hnb5rwfReUov"
      },
      "source": [
        "From Python's perspective,lists are defined as objects with the data type ***'list'***."
      ]
    },
    {
      "cell_type": "markdown",
      "metadata": {
        "id": "bFihGVvSfxy3"
      },
      "source": [
        "That's why it's possible to use the list() constructor when creating a new list."
      ]
    },
    {
      "cell_type": "code",
      "metadata": {
        "id": "4zrtMHcIaivs"
      },
      "source": [
        "thislist = list((\"Apple\",\"Banana\",\"Cherry\"))"
      ],
      "execution_count": null,
      "outputs": []
    },
    {
      "cell_type": "code",
      "metadata": {
        "colab": {
          "base_uri": "https://localhost:8080/"
        },
        "id": "JX2f37Y3gJYo",
        "outputId": "fcaac0ab-8dfa-4301-9dea-54ebd648ddf9"
      },
      "source": [
        "print(thislist)"
      ],
      "execution_count": null,
      "outputs": [
        {
          "output_type": "stream",
          "text": [
            "['Apple', 'Banana', 'Cherry']\n"
          ],
          "name": "stdout"
        }
      ]
    },
    {
      "cell_type": "code",
      "metadata": {
        "id": "ICRf3k3ZgLfs"
      },
      "source": [
        "if \"Apple\" in thislist:\n",
        "  print(\"Yep\")"
      ],
      "execution_count": null,
      "outputs": []
    },
    {
      "cell_type": "code",
      "metadata": {
        "colab": {
          "base_uri": "https://localhost:8080/"
        },
        "id": "WBMt_MYwkAh6",
        "outputId": "aa6f482f-0c51-48d5-f34d-241a351508fd"
      },
      "source": [
        "thislist = [\"apple\", \"banana\", \"cherry\"]\n",
        "thislist[1:2] = \"blackcurrant\", \"watermelon\"\n",
        "print(thislist)"
      ],
      "execution_count": null,
      "outputs": [
        {
          "output_type": "stream",
          "text": [
            "['apple', 'blackcurrant', 'watermelon', 'cherry']\n"
          ],
          "name": "stdout"
        }
      ]
    },
    {
      "cell_type": "code",
      "metadata": {
        "colab": {
          "base_uri": "https://localhost:8080/"
        },
        "id": "WfxfLeqsoJ1y",
        "outputId": "8731aed3-4642-4f84-bd50-e7192ced6490"
      },
      "source": [
        "type(thislist)"
      ],
      "execution_count": null,
      "outputs": [
        {
          "output_type": "execute_result",
          "data": {
            "text/plain": [
              "list"
            ]
          },
          "metadata": {
            "tags": []
          },
          "execution_count": 17
        }
      ]
    },
    {
      "cell_type": "code",
      "metadata": {
        "colab": {
          "base_uri": "https://localhost:8080/"
        },
        "id": "zN1bcduToV4P",
        "outputId": "8806e064-790b-4251-adc6-f28149553ccd"
      },
      "source": [
        "thislist.insert(2,\"few\")\n",
        "print(thislist)"
      ],
      "execution_count": null,
      "outputs": [
        {
          "output_type": "stream",
          "text": [
            "['apple', 'blackcurrant', 'few', 'watermelon', 'cherry']\n"
          ],
          "name": "stdout"
        }
      ]
    },
    {
      "cell_type": "code",
      "metadata": {
        "id": "DwTqkQvupz3s"
      },
      "source": [
        "thislist.append(2)"
      ],
      "execution_count": null,
      "outputs": []
    },
    {
      "cell_type": "code",
      "metadata": {
        "colab": {
          "base_uri": "https://localhost:8080/"
        },
        "id": "EGrnfJelvene",
        "outputId": "8e1f26a6-50aa-4958-ad8b-93a8e5ef6bce"
      },
      "source": [
        "print(thislist)\n",
        "print(thislist[-2])"
      ],
      "execution_count": null,
      "outputs": [
        {
          "output_type": "stream",
          "text": [
            "['apple', 'blackcurrant', 'few', 'watermelon', 'cherry', 2]\n",
            "cherry\n"
          ],
          "name": "stdout"
        }
      ]
    },
    {
      "cell_type": "code",
      "metadata": {
        "id": "0h12KLB_vgLY"
      },
      "source": [
        "new = thislist.extend(mylist)"
      ],
      "execution_count": null,
      "outputs": []
    },
    {
      "cell_type": "code",
      "metadata": {
        "colab": {
          "base_uri": "https://localhost:8080/"
        },
        "id": "R2iKnW6-wKOY",
        "outputId": "8d170c62-c5eb-4d02-a734-8b30aa64b2cd"
      },
      "source": [
        "print(new)"
      ],
      "execution_count": null,
      "outputs": [
        {
          "output_type": "stream",
          "text": [
            "None\n"
          ],
          "name": "stdout"
        }
      ]
    },
    {
      "cell_type": "code",
      "metadata": {
        "colab": {
          "base_uri": "https://localhost:8080/"
        },
        "id": "NimzCHaLwOH9",
        "outputId": "c1e86895-ec16-4295-a0ad-6fb0462e116e"
      },
      "source": [
        "thislist"
      ],
      "execution_count": null,
      "outputs": [
        {
          "output_type": "execute_result",
          "data": {
            "text/plain": [
              "['apple',\n",
              " 'blackcurrant',\n",
              " 'few',\n",
              " 'watermelon',\n",
              " 'cherry',\n",
              " 2,\n",
              " 'Apple',\n",
              " 'Banana',\n",
              " 'Cherry',\n",
              " 'Apple',\n",
              " 'Banana',\n",
              " 'Cherry',\n",
              " 'Apple',\n",
              " 'Banana',\n",
              " 'Cherry']"
            ]
          },
          "metadata": {
            "tags": []
          },
          "execution_count": 48
        }
      ]
    },
    {
      "cell_type": "code",
      "metadata": {
        "colab": {
          "base_uri": "https://localhost:8080/",
          "height": 36
        },
        "id": "PhLflQ_TwcrC",
        "outputId": "5cd2117a-c613-4b1b-fc6e-b9437db59cf7"
      },
      "source": [
        "var = 'foo'\n",
        "var"
      ],
      "execution_count": null,
      "outputs": [
        {
          "output_type": "execute_result",
          "data": {
            "application/vnd.google.colaboratory.intrinsic+json": {
              "type": "string"
            },
            "text/plain": [
              "'foo'"
            ]
          },
          "metadata": {
            "tags": []
          },
          "execution_count": 53
        }
      ]
    },
    {
      "cell_type": "code",
      "metadata": {
        "colab": {
          "base_uri": "https://localhost:8080/"
        },
        "id": "34Pqzcqg1T9g",
        "outputId": "f748c271-01c1-4d62-ddbd-10ddbbf7c402"
      },
      "source": [
        "print(var)\n",
        "print(repr(var))"
      ],
      "execution_count": null,
      "outputs": [
        {
          "output_type": "stream",
          "text": [
            "foo\n",
            "'foo'\n"
          ],
          "name": "stdout"
        }
      ]
    },
    {
      "cell_type": "code",
      "metadata": {
        "id": "OfFU7yVv1dap"
      },
      "source": [
        "newemptylist = []"
      ],
      "execution_count": null,
      "outputs": []
    },
    {
      "cell_type": "code",
      "metadata": {
        "colab": {
          "base_uri": "https://localhost:8080/"
        },
        "id": "KaW-04dZ2P66",
        "outputId": "3ae3526c-82c2-4a49-892b-39c4cf1ee058"
      },
      "source": [
        "type(newemptylist)"
      ],
      "execution_count": null,
      "outputs": [
        {
          "output_type": "execute_result",
          "data": {
            "text/plain": [
              "list"
            ]
          },
          "metadata": {
            "tags": []
          },
          "execution_count": 55
        }
      ]
    },
    {
      "cell_type": "markdown",
      "metadata": {
        "id": "hnCSJOe28hMO"
      },
      "source": [
        "Here How does clear() return H I don't understand what is the meaning I don't understand."
      ]
    },
    {
      "cell_type": "code",
      "metadata": {
        "colab": {
          "base_uri": "https://localhost:8080/"
        },
        "id": "95RWo6U84r9Q",
        "outputId": "f739acbc-bb21-422c-d944-66e3fc9479fe"
      },
      "source": [
        "clear()"
      ],
      "execution_count": null,
      "outputs": [
        {
          "output_type": "stream",
          "text": [
            "\u001b[H\u001b[2J"
          ],
          "name": "stdout"
        }
      ]
    },
    {
      "cell_type": "code",
      "metadata": {
        "colab": {
          "base_uri": "https://localhost:8080/"
        },
        "id": "Mm0Z9a3D2SBr",
        "outputId": "2f97292d-f538-4df3-db2b-76256361c9c6"
      },
      "source": [
        "# i = 0 \n",
        "for i in range(10) :\n",
        "  newemptylist.append(i)\n",
        "  # print(newemptylist[-1])\n",
        "print(newemptylist)\n",
        "print(len(newemptylist))"
      ],
      "execution_count": null,
      "outputs": [
        {
          "output_type": "stream",
          "text": [
            "[0, 1, 2, 3, 4, 5, 6, 7, 8, 9, 0, 1, 2, 3, 4, 5, 6, 7, 8, 9, 0, 1, 2, 3, 4, 5, 6, 7, 8, 9, 0, 1, 2, 3, 4, 5, 6, 7, 8, 9, 0, 1, 2, 3, 4, 5, 6, 7, 8, 9, 0, 1, 2, 3, 4, 5, 6, 7, 8, 9]\n",
            "60\n"
          ],
          "name": "stdout"
        }
      ]
    },
    {
      "cell_type": "code",
      "metadata": {
        "colab": {
          "base_uri": "https://localhost:8080/"
        },
        "id": "skV7Hy8g2WlM",
        "outputId": "c1b411f3-9f42-432b-e880-e1cae0285008"
      },
      "source": [
        "print(newemptylist)"
      ],
      "execution_count": null,
      "outputs": [
        {
          "output_type": "stream",
          "text": [
            "[1, 0, 1, 2, 3, 4, 5, 6, 7, 8, 9]\n"
          ],
          "name": "stdout"
        }
      ]
    },
    {
      "cell_type": "code",
      "metadata": {
        "id": "uwP_KUnQ3Ekc"
      },
      "source": [
        ""
      ],
      "execution_count": null,
      "outputs": []
    }
  ]
}